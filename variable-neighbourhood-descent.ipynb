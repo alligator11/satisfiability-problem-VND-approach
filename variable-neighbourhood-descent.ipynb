{
  "nbformat": 4,
  "nbformat_minor": 0,
  "metadata": {
    "colab": {
      "provenance": []
    },
    "kernelspec": {
      "name": "python3",
      "display_name": "Python 3"
    },
    "language_info": {
      "name": "python"
    }
  },
  "cells": [
    {
      "cell_type": "code",
      "source": [
        "def MoveGen(node):\n",
        "  neighbours = []\n",
        "  for i in range(len(node)):\n",
        "    neighbours.append(node[:i]+[int(not node[i])]+node[i+1:])\n",
        "  return neighbours"
      ],
      "metadata": {
        "id": "ibjIxDPVGpnk"
      },
      "execution_count": null,
      "outputs": []
    },
    {
      "cell_type": "code",
      "source": [
        "start = [0] * 5\n",
        "MoveGen(start)"
      ],
      "metadata": {
        "colab": {
          "base_uri": "https://localhost:8080/"
        },
        "id": "zwtZPJevH-b2",
        "outputId": "a73eaa61-10a4-43ee-ccae-f0ae3cc468e9"
      },
      "execution_count": null,
      "outputs": [
        {
          "output_type": "execute_result",
          "data": {
            "text/plain": [
              "[[1, 0, 0, 0, 0],\n",
              " [0, 1, 0, 0, 0],\n",
              " [0, 0, 1, 0, 0],\n",
              " [0, 0, 0, 1, 0],\n",
              " [0, 0, 0, 0, 1]]"
            ]
          },
          "metadata": {},
          "execution_count": 2
        }
      ]
    },
    {
      "cell_type": "code",
      "source": [
        "def heuristic(node, prob):\n",
        "  res = 0\n",
        "  for i in prob:\n",
        "    if prob[i](node)==1:\n",
        "      res += 1\n",
        "  return res"
      ],
      "metadata": {
        "id": "uz7KF0ovJxA8"
      },
      "execution_count": null,
      "outputs": []
    },
    {
      "cell_type": "code",
      "source": [
        "s=[0,0,0,0,0,0]\n",
        "prob = {1:lambda s: (s[0] or (not s[1])),\n",
        "        2:lambda s: (s[1] or (not s[2])),\n",
        "        3:lambda s: (not s[1]) ,\n",
        "        4:lambda s: ((not s[2]) or s[4]),\n",
        "        5:lambda s: (s[0] or s[2]),\n",
        "        6:lambda s: ((not s[2]) or (not s[3]))}\n",
        "heuristic(s, prob)"
      ],
      "metadata": {
        "colab": {
          "base_uri": "https://localhost:8080/"
        },
        "id": "CJtcbbd9PRZW",
        "outputId": "0f4e825a-53ea-4a2f-9c48-2dfad8de3f5a"
      },
      "execution_count": null,
      "outputs": [
        {
          "output_type": "execute_result",
          "data": {
            "text/plain": [
              "5"
            ]
          },
          "metadata": {},
          "execution_count": 4
        }
      ]
    },
    {
      "cell_type": "code",
      "source": [
        "s = [1, 0, 0, 0, 0]\n",
        "heuristic(s, prob)"
      ],
      "metadata": {
        "colab": {
          "base_uri": "https://localhost:8080/"
        },
        "id": "mDmW5xl_SKOn",
        "outputId": "ee01f257-986c-45ba-b8e7-fd1f5b5ae9e4"
      },
      "execution_count": null,
      "outputs": [
        {
          "output_type": "execute_result",
          "data": {
            "text/plain": [
              "6"
            ]
          },
          "metadata": {},
          "execution_count": 5
        }
      ]
    },
    {
      "cell_type": "code",
      "source": [
        "s = [0, 0, 0, 1, 0]\n",
        "heuristic(s, prob)"
      ],
      "metadata": {
        "colab": {
          "base_uri": "https://localhost:8080/"
        },
        "id": "RV3DtmMlSRA_",
        "outputId": "9b54a041-bec5-46d5-a766-f076dc3dd959"
      },
      "execution_count": null,
      "outputs": [
        {
          "output_type": "execute_result",
          "data": {
            "text/plain": [
              "5"
            ]
          },
          "metadata": {},
          "execution_count": 6
        }
      ]
    },
    {
      "cell_type": "code",
      "source": [
        "s = [0, 0, 0, 0, 1]\n",
        "heuristic(s, prob)"
      ],
      "metadata": {
        "colab": {
          "base_uri": "https://localhost:8080/"
        },
        "id": "pKbo9BThSU8_",
        "outputId": "a682530e-3734-4030-816d-3ed5c7a2d361"
      },
      "execution_count": null,
      "outputs": [
        {
          "output_type": "execute_result",
          "data": {
            "text/plain": [
              "5"
            ]
          },
          "metadata": {},
          "execution_count": 7
        }
      ]
    },
    {
      "cell_type": "code",
      "source": [
        "s = [0, 0, 1, 0, 0]\n",
        "heuristic(s, prob)"
      ],
      "metadata": {
        "colab": {
          "base_uri": "https://localhost:8080/"
        },
        "id": "9D5gGpJHSbcn",
        "outputId": "a6f2ae99-4c1a-4266-c04d-e083ea647afe"
      },
      "execution_count": null,
      "outputs": [
        {
          "output_type": "execute_result",
          "data": {
            "text/plain": [
              "4"
            ]
          },
          "metadata": {},
          "execution_count": 8
        }
      ]
    },
    {
      "cell_type": "code",
      "source": [
        "s = [0, 1, 0, 0, 0]\n",
        "heuristic(s, prob)"
      ],
      "metadata": {
        "colab": {
          "base_uri": "https://localhost:8080/"
        },
        "id": "w8MfFMWWScvX",
        "outputId": "2cec9813-7f6d-4254-b01b-08f9ec7b362c"
      },
      "execution_count": null,
      "outputs": [
        {
          "output_type": "execute_result",
          "data": {
            "text/plain": [
              "3"
            ]
          },
          "metadata": {},
          "execution_count": 9
        }
      ]
    },
    {
      "cell_type": "code",
      "source": [
        "def sorth(options, prob):\n",
        "  heuristics = []\n",
        "  for i,option in enumerate(options):\n",
        "    heuristics.append([])\n",
        "    heuristics[i].append(option)\n",
        "    heuristics[i].append(heuristic(option, prob))\n",
        "  return [li[0] for li in sorted(heuristics,key=lambda l:l[1], reverse=True)]"
      ],
      "metadata": {
        "id": "9XuoeahFPh22"
      },
      "execution_count": null,
      "outputs": []
    },
    {
      "cell_type": "code",
      "source": [
        "sorth(MoveGen(start), prob)"
      ],
      "metadata": {
        "colab": {
          "base_uri": "https://localhost:8080/"
        },
        "id": "osnUT0iMRkVH",
        "outputId": "9092e797-bd88-4450-cf6f-f1887f277fad"
      },
      "execution_count": null,
      "outputs": [
        {
          "output_type": "execute_result",
          "data": {
            "text/plain": [
              "[[1, 0, 0, 0, 0],\n",
              " [0, 0, 0, 1, 0],\n",
              " [0, 0, 0, 0, 1],\n",
              " [0, 0, 1, 0, 0],\n",
              " [0, 1, 0, 0, 0]]"
            ]
          },
          "metadata": {},
          "execution_count": 11
        }
      ]
    },
    {
      "cell_type": "code",
      "source": [
        "def Hill_Climbing(S, moveGen, prob):\n",
        "  N=S\n",
        "  while True:\n",
        "    bestEver = N\n",
        "    N = sorth(moveGen, prob)[0]\n",
        "    if heuristic(N, prob)<=heuristic(bestEver, prob):\n",
        "      break\n",
        "  return bestEver"
      ],
      "metadata": {
        "id": "XGjOH_QxGcFE"
      },
      "execution_count": null,
      "outputs": []
    },
    {
      "cell_type": "code",
      "source": [
        "def VND(start, prob, n = 5):\n",
        "  node = start\n",
        "  for i in range(1, n+1):\n",
        "    moveGen = MoveGen(node)\n",
        "    node = Hill_Climbing(node, moveGen, prob)\n",
        "    print(f'Node after iteration {i}: {node}')\n",
        "  return node"
      ],
      "metadata": {
        "id": "8V2vsgHsELEb"
      },
      "execution_count": null,
      "outputs": []
    },
    {
      "cell_type": "code",
      "execution_count": null,
      "metadata": {
        "colab": {
          "base_uri": "https://localhost:8080/"
        },
        "id": "gtVm3H_yCm4C",
        "outputId": "1798b178-ade8-49b8-a64f-0ede0997aaf2"
      },
      "outputs": [
        {
          "output_type": "stream",
          "name": "stdout",
          "text": [
            "Node after iteration 1: [1, 1, 1, 1, 1]\n",
            "Node after iteration 2: [1, 1, 0, 1, 1]\n",
            "Node after iteration 3: [1, 0, 0, 1, 1]\n",
            "Node after iteration 4: [1, 0, 0, 1, 1]\n",
            "Node after iteration 5: [1, 0, 0, 1, 1]\n"
          ]
        },
        {
          "output_type": "execute_result",
          "data": {
            "text/plain": [
              "[1, 0, 0, 1, 1]"
            ]
          },
          "metadata": {},
          "execution_count": 14
        }
      ],
      "source": [
        "start = [0, 1, 1, 1, 1]\n",
        "prob = {1:lambda s: (s[0] or (not s[1])),\n",
        "        2:lambda s: (s[1] or (not s[2])),\n",
        "        3:lambda s: (not s[1]),\n",
        "        4:lambda s: ((not s[2]) or s[4]),\n",
        "        5:lambda s: (s[0] or s[2]),\n",
        "        6:lambda s: ((not s[2]) or (not s[3]))}\n",
        "sol = VND(start, prob)\n",
        "sol"
      ]
    },
    {
      "cell_type": "code",
      "source": [
        "def check(prob, sol):\n",
        "  ans = 1\n",
        "  for i in prob:\n",
        "    ans = ans and prob[i](sol)\n",
        "  return ans"
      ],
      "metadata": {
        "id": "Ps526X6UWmL9"
      },
      "execution_count": null,
      "outputs": []
    },
    {
      "cell_type": "code",
      "source": [
        "check(prob, sol)"
      ],
      "metadata": {
        "colab": {
          "base_uri": "https://localhost:8080/"
        },
        "id": "qQYhFJOTXFCt",
        "outputId": "8ddf554b-e223-4d74-f728-d7ab91cf2eab"
      },
      "execution_count": null,
      "outputs": [
        {
          "output_type": "execute_result",
          "data": {
            "text/plain": [
              "True"
            ]
          },
          "metadata": {},
          "execution_count": 16
        }
      ]
    },
    {
      "cell_type": "code",
      "source": [
        "start = [0, 0, 1, 0, 0]\n",
        "prob = {1:lambda s: (s[0] or s[1]),\n",
        "        2:lambda s: (s[0] or (not s[2])),\n",
        "        3:lambda s: (s[1] or s[3]),\n",
        "        4:lambda s: (s[0] or (not s[4]))}\n",
        "sol = VND(start, prob)\n",
        "sol"
      ],
      "metadata": {
        "colab": {
          "base_uri": "https://localhost:8080/"
        },
        "id": "VI1xkVOLUz06",
        "outputId": "75bd6baa-7d78-4665-8b09-010dcc05245e"
      },
      "execution_count": null,
      "outputs": [
        {
          "output_type": "stream",
          "name": "stdout",
          "text": [
            "Node after iteration 1: [1, 0, 1, 0, 0]\n",
            "Node after iteration 2: [1, 1, 1, 0, 0]\n",
            "Node after iteration 3: [1, 1, 1, 0, 0]\n",
            "Node after iteration 4: [1, 1, 1, 0, 0]\n",
            "Node after iteration 5: [1, 1, 1, 0, 0]\n"
          ]
        },
        {
          "output_type": "execute_result",
          "data": {
            "text/plain": [
              "[1, 1, 1, 0, 0]"
            ]
          },
          "metadata": {},
          "execution_count": 17
        }
      ]
    },
    {
      "cell_type": "code",
      "source": [
        "check(prob, sol)"
      ],
      "metadata": {
        "colab": {
          "base_uri": "https://localhost:8080/"
        },
        "id": "MDREZeiwXLFV",
        "outputId": "b6fbd7ab-d835-43d3-bf1d-1feb85d42113"
      },
      "execution_count": null,
      "outputs": [
        {
          "output_type": "execute_result",
          "data": {
            "text/plain": [
              "1"
            ]
          },
          "metadata": {},
          "execution_count": 18
        }
      ]
    }
  ]
}